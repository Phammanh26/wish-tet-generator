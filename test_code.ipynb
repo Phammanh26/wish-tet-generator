{
 "cells": [
  {
   "cell_type": "code",
   "execution_count": 3,
   "metadata": {},
   "outputs": [],
   "source": [
    "from controllers.generate import QuestionGenerator\n",
    "import configs"
   ]
  },
  {
   "cell_type": "code",
   "execution_count": 4,
   "metadata": {},
   "outputs": [
    {
     "name": "stderr",
     "output_type": "stream",
     "text": [
      "2023-01-09 01:43:43.094 | INFO     | controllers.generate:_generate_query:56 - Generated question: I have a question:  'What is the capital of Vietnam? Hanoi or Ho Chi Minh City or Da Nang'. Please help me create new question with same this topic question's with multiple choice \n",
      "2023-01-09 01:43:43.279 | INFO     | controllers.search:setup:15 - host = http://13.229.139.60:8888/chatgpt, token = sGSyaZ2IPrLMLjTt1Xp8, timeout = 30\n"
     ]
    },
    {
     "data": {
      "text/plain": [
       "['Sure! Here is a multiple choice question about the capital of Vietnam:\\n\\nWhich of the following is the capital of Vietnam?\\n\\nA) Hanoi\\nB) Ho Chi Minh City\\nC) Da Nang\\n\\nThe correct answer is A) Hanoi.']"
      ]
     },
     "execution_count": 4,
     "metadata": {},
     "output_type": "execute_result"
    }
   ],
   "source": [
    "QuestionGenerator(config=configs).generate(question=\"What is the capital of Vietnam?\", answers=[\"Hanoi\", \"Ho Chi Minh City\", \"Da Nang\"], num_questions=10)"
   ]
  }
 ],
 "metadata": {
  "kernelspec": {
   "display_name": "tabai_env",
   "language": "python",
   "name": "python3"
  },
  "language_info": {
   "codemirror_mode": {
    "name": "ipython",
    "version": 3
   },
   "file_extension": ".py",
   "mimetype": "text/x-python",
   "name": "python",
   "nbconvert_exporter": "python",
   "pygments_lexer": "ipython3",
   "version": "3.8.15 (default, Nov 24 2022, 08:57:44) \n[Clang 14.0.6 ]"
  },
  "orig_nbformat": 4,
  "vscode": {
   "interpreter": {
    "hash": "805f7a5fee02869a03dee90f2edd99920f4e5d0c8d103de9b28913655ee2e3fe"
   }
  }
 },
 "nbformat": 4,
 "nbformat_minor": 2
}
